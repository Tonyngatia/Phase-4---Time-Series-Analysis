{
  "nbformat": 4,
  "nbformat_minor": 0,
  "metadata": {
    "colab": {
      "provenance": [],
      "include_colab_link": true
    },
    "kernelspec": {
      "name": "python3",
      "display_name": "Python 3"
    },
    "language_info": {
      "name": "python"
    }
  },
  "cells": [
    {
      "cell_type": "markdown",
      "metadata": {
        "id": "view-in-github",
        "colab_type": "text"
      },
      "source": [
        "<a href=\"https://colab.research.google.com/github/Tonyngatia/Phase-4---Time-Series-Analysis/blob/main/README.ipynb\" target=\"_parent\"><img src=\"https://colab.research.google.com/assets/colab-badge.svg\" alt=\"Open In Colab\"/></a>"
      ]
    },
    {
      "cell_type": "markdown",
      "source": [
        "# PHASE 4 PROJECT :REAL ESTATE TIME SERIES ANALYSIS.\n",
        "# **1). Business Understanding**\n",
        "\n",
        "\n",
        "Real estate investment is a lucrative and dynamic industry that requires careful analysis and decision-making. The fictional real estate investment firm is seeking guidance on identifying the top 5 zip codes for investment opportunities. To address this question, historical data from Zillow Research is utilized.\n",
        "## **i) Background:**\n",
        "\n",
        "Real estate investment is a lucrative and dynamic industry that requires careful analysis and decision-making. The fictional real estate investment firm is seeking guidance on identifying the top 5 zip codes for investment opportunities. To address this question, historical data from Zillow Research is utilized. The dataset contains information on various attributes, including RegionID, RegionName, City, State, Metro, SizeRank, CountyName, and value (real estate prices).\n",
        "\n",
        "## **ii). Main Objective:**\n",
        "\n",
        "The main objective of this project is to identify the top 5 zip codes that offer the best investment potential in terms of real estate prices. By analyzing historical trends and patterns, the project aims to provide actionable insights to the investment firm, enabling them to make informed decisions on where to allocate their resources.\n",
        "\n",
        "### **Specific Objectives:**\n",
        "\n",
        "* Analyze Historical Data: The project involves analyzing the historical data of real estate prices across different zip codes. This includes understanding the trends, patterns, and fluctuations in property values over time.\n",
        "\n",
        "* Identify Promising Zip Codes: Using the analysis of historical data, the project aims to identify the zip codes that have shown consistent growth, stability, or potential for future appreciation. These zip codes are considered the most favorable for investment.\n",
        "\n",
        "* Consider Location Factors: In addition to the historical performance, the project also takes into account location-specific factors such as city, state, and metro. This information helps assess the overall desirability and attractiveness of the investment opportunities.\n",
        "\n",
        "* Evaluate Market SizeRank: The SizeRank attribute provides insights into the relative size and competitiveness of the real estate market in each zip code. This factor helps gauge the potential opportunities and risks associated with investing in a particular area.\n",
        "\n",
        "  # **2)**. **Data Understanding**\n",
        "\n",
        "The dataset contains information on various attributes, including RegionID, RegionName, City, State, Metro, SizeRank, CountyName, and value (real estate prices). Our dataset is the Zillow Housing Dataset which was sourced from Zillow Research Page.\n",
        "\n",
        "In order to understand how our dataset looks like lets get a preview of this data by loading it.\n",
        "## **3). Data Preparation**\n",
        "This is to make the data in a format that is good to feed to our model.It involves the following series of steps:<br>\n",
        "* Cleaning the data<br>\n",
        "* Checking for and dealing with missing values<br>\n",
        "* Reshaping our dataset from wide to long format<br>\n",
        "  # 4). Exploratory Data Analysis\n",
        "  This is basically trying to figure out more about our data , its behaviours and patterns\n",
        "  This involves the following :<br>\n",
        "  * Grouping the data by month.\n",
        "\n",
        "    ![Read Me monthly Eda](https://github.com/learn-co-curriculum/dsc-data-visualization-with-pandas/assets/109750154/94025eda-57c4-4d90-88b1-45ee2fda561e)\n",
        "\n",
        "  * Group the data yearly .\n",
        "\n",
        "    ![Eda Yearly plot](https://github.com/learn-co-curriculum/dsc-data-visualization-with-pandas/assets/109750154/640741c3-0b51-42fe-8224-55f09e25970f)\n",
        "* Grouping per quarter and plotting .\n",
        "\n",
        "  ![quarterly plot](https://github.com/learn-co-curriculum/dsc-data-visualization-with-pandas/assets/109750154/419a39da-127a-4022-a6dc-d56a126a3dc8)\n",
        "  * Grouping per decade\n",
        "\n",
        "![Eda per decade](https://github.com/learn-co-curriculum/dsc-data-visualization-with-pandas/assets/109750154/d42ade3e-12ee-4f54-a18a-de11d1f4685b)\n",
        "  *  Finding the top 5 Best regions\n",
        "\n",
        "  Here we seek to find the five best regions by uing the return of investment, where high returns show the best regions. Below is a plot of our findings\n",
        "\n",
        "  ![ROI](https://github.com/learn-co-curriculum/dsc-data-visualization-with-pandas/assets/109750154/8808016c-6de8-4e97-8c8a-09a75de545fd)\n",
        "  * Checking for trends and seasonality\n",
        "    Here we seek to find the relevant trends in the dataset , based on the best regions, below is our plots\n",
        "\n",
        "    ![Line plot](https://github.com/learn-co-curriculum/dsc-data-visualization-with-pandas/assets/109750154/8be22aa7-0b70-41aa-a581-e49687592fd7)\n",
        "    * Checking for the rolling statistics <br>\n",
        "    * Performing Dullers test. <br>\n",
        "    * Checking for stationarity <br>\n",
        "    * Detrending our dataset <br>\n",
        "    * Deseasonalizing our dataset <br>\n",
        "    * Performing Seasonal decomposition <br>\n",
        "    ## **5). Modelling**\n",
        "    This is now creating various models to forecast our data . we created the following models :\n",
        "    * ARIMA modelels <br>\n",
        "    *  SARIMAX models. <br>\n",
        "    *  PROPHET models. <br>\n",
        "      First weplot the auto-correlation plots , then we do the modelling.\n",
        "1. **Arima Models** <br>\n",
        " We created an Arima model, below is the statistical results.<br>\n",
        "   <img width=\"553\" alt=\"Arima\" src=\"https://github.com/learn-co-curriculum/dsc-data-visualization-with-pandas/assets/109750154/c7a99ee9-2f65-4486-8512-1f8dfa89a7a5\">\n",
        "2. **Sarimax Models**<br>\n",
        "Below is the statistical result using the Sarimax models.\n",
        "\n",
        "<img width=\"586\" alt=\"Sarimax\" src=\"https://github.com/learn-co-curriculum/dsc-data-visualization-with-pandas/assets/109750154/75da97a4-b36d-409f-899d-910667e9e3d1\">\n",
        "\n",
        "Below is a plot of the actual and predicted values of our Sarimax model with a 1.94 RMSE <br>\n",
        "\n",
        "![Sarimax](https://github.com/learn-co-curriculum/dsc-data-visualization-with-pandas/assets/109750154/627564a9-335e-471a-909a-d45ef0d31f11)\n",
        "3. ** Prophet Models**\n",
        "We used this model to forecast and predict values, below are some of  our predicted values (**Note: The yhat means the predicted values**)  <br>\n",
        "<img width=\"257\" alt=\"Prophet model\" src=\"https://github.com/learn-co-curriculum/dsc-data-visualization-with-pandas/assets/109750154/13c9cebc-349b-4165-8c0c-c8a7f97a2028\">\n",
        "\n",
        "   ## 7). Summary\n",
        "   After performing time series analysis on the 10 zip codes and forecasting total returns for up to three years, we reccomend the company to invest in the following 3 zipcodes:\n",
        "\n",
        "* 81611 - Location: Aspen, CO             (R.O.I - 132.378817)\n",
        "\n",
        "* 10021 - Location: New York, NY          (R.O.I - 111.795552)\n",
        "\n",
        "* 34102 - Location: Naples, FL            (R.O.I - 7.605307)\n",
        "\n",
        "\n",
        "As for the other 6 zip codes, they are not fit for investement given the negative returns.\n"
      ],
      "metadata": {
        "id": "jV4ZxTBWQoCJ"
      }
    },
    {
      "cell_type": "code",
      "source": [],
      "metadata": {
        "id": "dK64i-39Qw5e"
      },
      "execution_count": null,
      "outputs": []
    }
  ]
}